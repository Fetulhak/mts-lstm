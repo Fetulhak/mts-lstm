{
 "cells": [
  {
   "cell_type": "markdown",
   "metadata": {},
   "source": [
    "# Analysis of ODE-LSTM Results\n",
    "\n",
    "This notebook creates the comparison between ODE-LSTM and MTS-LSTM from the paper. \n",
    "To reproduce the contents of this notebook, you need to download the models' predictions (or create them yourself) into the folder `BASE_DIR`\n",
    "\n",
    "`README.md` contains information on where to obtain the required data."
   ]
  },
  {
   "cell_type": "code",
   "execution_count": 1,
   "metadata": {},
   "outputs": [],
   "source": [
    "import pickle\n",
    "from pathlib import Path\n",
    "\n",
    "import numpy as np\n",
    "import pandas as pd\n",
    "import xarray as xr\n",
    "\n",
    "from neuralhydrology.evaluation.metrics import calculate_metrics\n",
    "\n",
    "BASE_DIR = Path('/home/mgauch/mts-lstm/results/odelstm')\n",
    "\n",
    "metrics = ['NSE', 'MSE', 'RMSE', 'KGE', 'Alpha-NSE', 'Pearson-r', 'Beta-NSE', 'FHV', 'FMS', 'FLV', 'Peak-Timing']\n",
    "basins = ['01022500', '02064000']"
   ]
  },
  {
   "cell_type": "markdown",
   "metadata": {},
   "source": [
    "## Preparation\n",
    "### Load predictions and metrics for each model ensemble"
   ]
  },
  {
   "cell_type": "code",
   "execution_count": 2,
   "metadata": {},
   "outputs": [],
   "source": [
    "# (a) train on 1D+12H, evaluate on 1H (dividing 12H-predictions by 12)\n",
    "# (b) train on 1H+3H, evaluate on 1D (aggregating every 8 3H-predictions)\n",
    "# (c) train on 1H+1D, evaluate on 1H+1D\n",
    "a_mtslstm, b_mtslstm = {}, {}\n",
    "a_odelstm, b_odelstm = {}, {}\n",
    "for b in basins:\n",
    "    # MTS-LSTM predictions (single-basin)\n",
    "    a_mtslstm[b] = pickle.load(open(BASE_DIR / f'ensemble_mtslstm_a_{b}.p', 'rb'))[b]\n",
    "    b_mtslstm[b] = pickle.load(open(BASE_DIR / f'ensemble_mtslstm_b_{b}.p', 'rb'))[b]\n",
    "\n",
    "    # ODE-LSTM (single-basin)\n",
    "    a_odelstm[b] = pickle.load(open(BASE_DIR / f'ensemble_odelstm_a_{b}.p', 'rb'))[b]\n",
    "    b_odelstm[b] = pickle.load(open(BASE_DIR / f'ensemble_odelstm_b_{b}.p', 'rb'))[b]"
   ]
  },
  {
   "cell_type": "markdown",
   "metadata": {},
   "source": [
    "### (Dis-)aggregate MTS-LSTM predictions to missing timescales and calculate metrics"
   ]
  },
  {
   "cell_type": "code",
   "execution_count": 3,
   "metadata": {},
   "outputs": [
    {
     "name": "stderr",
     "output_type": "stream",
     "text": [
      "/home/mgauch/miniconda3/envs/pytorch/lib/python3.7/site-packages/xarray/core/nanops.py:142: RuntimeWarning: Mean of empty slice\n",
      "  return np.nanmean(a, axis=axis, dtype=dtype)\n",
      "/home/mgauch/miniconda3/envs/pytorch/lib/python3.7/site-packages/xarray/core/nanops.py:142: RuntimeWarning: Mean of empty slice\n",
      "  return np.nanmean(a, axis=axis, dtype=dtype)\n"
     ]
    }
   ],
   "source": [
    "for basin in basins:\n",
    "    a_mtslstm[basin]['1H']['xr'] = a_mtslstm[basin]['12H']['xr'].resample({'datetime': '1H'}).pad()\n",
    "    b_mtslstm[basin]['1D']['xr'] = b_mtslstm[basin]['3H']['xr'].resample({'datetime': '1D'}).mean()\n",
    "    a_mtslstm[basin]['1H']['xr']['qobs_mm_per_hour_obs'] = b_mtslstm[basin]['1H']['xr']['qobs_mm_per_hour_obs']\n",
    "    b_mtslstm[basin]['1D']['xr']['qobs_mm_per_hour_obs'] = a_mtslstm[basin]['1D']['xr']['qobs_mm_per_hour_obs']\n",
    "\n",
    "    a_metrics = calculate_metrics(a_mtslstm[basin]['1H']['xr']['qobs_mm_per_hour_obs'],\n",
    "                                  a_mtslstm[basin]['1H']['xr']['qobs_mm_per_hour_sim'],\n",
    "                                  metrics, resolution='1H')\n",
    "    b_metrics = calculate_metrics(b_mtslstm[basin]['1D']['xr']['qobs_mm_per_hour_obs'],\n",
    "                                  b_mtslstm[basin]['1D']['xr']['qobs_mm_per_hour_sim'],\n",
    "                                  metrics, resolution='1D')\n",
    "    for metric in metrics:\n",
    "        a_mtslstm[basin]['1H'][metric + '_1H'] = a_metrics[metric]\n",
    "        b_mtslstm[basin]['1D'][metric + '_1D'] = b_metrics[metric]"
   ]
  },
  {
   "cell_type": "code",
   "execution_count": 4,
   "metadata": {},
   "outputs": [],
   "source": [
    "def to_df(dict_mtslstm, dict_odelstm):\n",
    "    return pd.DataFrame({'MTS-LSTM': dict_mtslstm, 'ODE-LSTM': dict_odelstm})\n",
    "\n",
    "metric = 'NSE'"
   ]
  },
  {
   "cell_type": "code",
   "execution_count": 5,
   "metadata": {},
   "outputs": [
    {
     "name": "stdout",
     "output_type": "stream",
     "text": [
      "01022500\n",
      " (a) train on 1D+12H, evaluate on 1H:\n"
     ]
    },
    {
     "data": {
      "text/html": [
       "<div>\n",
       "<style scoped>\n",
       "    .dataframe tbody tr th:only-of-type {\n",
       "        vertical-align: middle;\n",
       "    }\n",
       "\n",
       "    .dataframe tbody tr th {\n",
       "        vertical-align: top;\n",
       "    }\n",
       "\n",
       "    .dataframe thead th {\n",
       "        text-align: right;\n",
       "    }\n",
       "</style>\n",
       "<table border=\"1\" class=\"dataframe\">\n",
       "  <thead>\n",
       "    <tr style=\"text-align: right;\">\n",
       "      <th></th>\n",
       "      <th>MTS-LSTM</th>\n",
       "      <th>ODE-LSTM</th>\n",
       "    </tr>\n",
       "  </thead>\n",
       "  <tbody>\n",
       "    <tr>\n",
       "      <th>NSE_1D</th>\n",
       "      <td>0.794056</td>\n",
       "      <td>0.779118</td>\n",
       "    </tr>\n",
       "    <tr>\n",
       "      <th>NSE_12H</th>\n",
       "      <td>0.798655</td>\n",
       "      <td>0.772819</td>\n",
       "    </tr>\n",
       "    <tr>\n",
       "      <th>NSE_1H</th>\n",
       "      <td>0.791883</td>\n",
       "      <td>0.766070</td>\n",
       "    </tr>\n",
       "  </tbody>\n",
       "</table>\n",
       "</div>"
      ],
      "text/plain": [
       "         MTS-LSTM  ODE-LSTM\n",
       "NSE_1D   0.794056  0.779118\n",
       "NSE_12H  0.798655  0.772819\n",
       "NSE_1H   0.791883  0.766070"
      ]
     },
     "metadata": {},
     "output_type": "display_data"
    },
    {
     "name": "stdout",
     "output_type": "stream",
     "text": [
      " (b) train on 1H+3H, evaluate on 1D:\n"
     ]
    },
    {
     "data": {
      "text/html": [
       "<div>\n",
       "<style scoped>\n",
       "    .dataframe tbody tr th:only-of-type {\n",
       "        vertical-align: middle;\n",
       "    }\n",
       "\n",
       "    .dataframe tbody tr th {\n",
       "        vertical-align: top;\n",
       "    }\n",
       "\n",
       "    .dataframe thead th {\n",
       "        text-align: right;\n",
       "    }\n",
       "</style>\n",
       "<table border=\"1\" class=\"dataframe\">\n",
       "  <thead>\n",
       "    <tr style=\"text-align: right;\">\n",
       "      <th></th>\n",
       "      <th>MTS-LSTM</th>\n",
       "      <th>ODE-LSTM</th>\n",
       "    </tr>\n",
       "  </thead>\n",
       "  <tbody>\n",
       "    <tr>\n",
       "      <th>NSE_1H</th>\n",
       "      <td>0.806500</td>\n",
       "      <td>0.752522</td>\n",
       "    </tr>\n",
       "    <tr>\n",
       "      <th>NSE_3H</th>\n",
       "      <td>0.806255</td>\n",
       "      <td>0.756015</td>\n",
       "    </tr>\n",
       "    <tr>\n",
       "      <th>NSE_1D</th>\n",
       "      <td>0.808517</td>\n",
       "      <td>0.757462</td>\n",
       "    </tr>\n",
       "  </tbody>\n",
       "</table>\n",
       "</div>"
      ],
      "text/plain": [
       "        MTS-LSTM  ODE-LSTM\n",
       "NSE_1H  0.806500  0.752522\n",
       "NSE_3H  0.806255  0.756015\n",
       "NSE_1D  0.808517  0.757462"
      ]
     },
     "metadata": {},
     "output_type": "display_data"
    },
    {
     "name": "stdout",
     "output_type": "stream",
     "text": [
      "02064000\n",
      " (a) train on 1D+12H, evaluate on 1H:\n"
     ]
    },
    {
     "data": {
      "text/html": [
       "<div>\n",
       "<style scoped>\n",
       "    .dataframe tbody tr th:only-of-type {\n",
       "        vertical-align: middle;\n",
       "    }\n",
       "\n",
       "    .dataframe tbody tr th {\n",
       "        vertical-align: top;\n",
       "    }\n",
       "\n",
       "    .dataframe thead th {\n",
       "        text-align: right;\n",
       "    }\n",
       "</style>\n",
       "<table border=\"1\" class=\"dataframe\">\n",
       "  <thead>\n",
       "    <tr style=\"text-align: right;\">\n",
       "      <th></th>\n",
       "      <th>MTS-LSTM</th>\n",
       "      <th>ODE-LSTM</th>\n",
       "    </tr>\n",
       "  </thead>\n",
       "  <tbody>\n",
       "    <tr>\n",
       "      <th>NSE_1D</th>\n",
       "      <td>0.666761</td>\n",
       "      <td>0.712177</td>\n",
       "    </tr>\n",
       "    <tr>\n",
       "      <th>NSE_12H</th>\n",
       "      <td>0.701545</td>\n",
       "      <td>0.695307</td>\n",
       "    </tr>\n",
       "    <tr>\n",
       "      <th>NSE_1H</th>\n",
       "      <td>0.625982</td>\n",
       "      <td>0.613092</td>\n",
       "    </tr>\n",
       "  </tbody>\n",
       "</table>\n",
       "</div>"
      ],
      "text/plain": [
       "         MTS-LSTM  ODE-LSTM\n",
       "NSE_1D   0.666761  0.712177\n",
       "NSE_12H  0.701545  0.695307\n",
       "NSE_1H   0.625982  0.613092"
      ]
     },
     "metadata": {},
     "output_type": "display_data"
    },
    {
     "name": "stdout",
     "output_type": "stream",
     "text": [
      " (b) train on 1H+3H, evaluate on 1D:\n"
     ]
    },
    {
     "data": {
      "text/html": [
       "<div>\n",
       "<style scoped>\n",
       "    .dataframe tbody tr th:only-of-type {\n",
       "        vertical-align: middle;\n",
       "    }\n",
       "\n",
       "    .dataframe tbody tr th {\n",
       "        vertical-align: top;\n",
       "    }\n",
       "\n",
       "    .dataframe thead th {\n",
       "        text-align: right;\n",
       "    }\n",
       "</style>\n",
       "<table border=\"1\" class=\"dataframe\">\n",
       "  <thead>\n",
       "    <tr style=\"text-align: right;\">\n",
       "      <th></th>\n",
       "      <th>MTS-LSTM</th>\n",
       "      <th>ODE-LSTM</th>\n",
       "    </tr>\n",
       "  </thead>\n",
       "  <tbody>\n",
       "    <tr>\n",
       "      <th>NSE_1H</th>\n",
       "      <td>0.681597</td>\n",
       "      <td>0.678696</td>\n",
       "    </tr>\n",
       "    <tr>\n",
       "      <th>NSE_3H</th>\n",
       "      <td>0.713100</td>\n",
       "      <td>0.660292</td>\n",
       "    </tr>\n",
       "    <tr>\n",
       "      <th>NSE_1D</th>\n",
       "      <td>0.729742</td>\n",
       "      <td>0.521488</td>\n",
       "    </tr>\n",
       "  </tbody>\n",
       "</table>\n",
       "</div>"
      ],
      "text/plain": [
       "        MTS-LSTM  ODE-LSTM\n",
       "NSE_1H  0.681597  0.678696\n",
       "NSE_3H  0.713100  0.660292\n",
       "NSE_1D  0.729742  0.521488"
      ]
     },
     "metadata": {},
     "output_type": "display_data"
    }
   ],
   "source": [
    "for basin in basins:\n",
    "    print(basin)\n",
    "    print(' (a) train on 1D+12H, evaluate on 1H:')\n",
    "    display(to_df({f'{metric}_{f}': a_mtslstm[basin][f][f'{metric}_{f}'] for f in a_mtslstm[basin]},\n",
    "                  {f'{metric}_{f}': a_odelstm[basin][f][f'{metric}_{f}'] for f in a_odelstm[basin]}))\n",
    "\n",
    "    print(' (b) train on 1H+3H, evaluate on 1D:')\n",
    "    display(to_df({f'{metric}_{f}': b_mtslstm[basin][f][f'{metric}_{f}'] for f in b_mtslstm[basin]},\n",
    "                  {f'{metric}_{f}': b_odelstm[basin][f][f'{metric}_{f}'] for f in b_odelstm[basin]}))"
   ]
  },
  {
   "cell_type": "markdown",
   "metadata": {},
   "source": [
    "## NSE of dis-aggregating observations"
   ]
  },
  {
   "cell_type": "code",
   "execution_count": 6,
   "metadata": {},
   "outputs": [
    {
     "name": "stdout",
     "output_type": "stream",
     "text": [
      "01022500\n"
     ]
    },
    {
     "data": {
      "text/plain": [
       "{'NSE': 0.9928403263911605,\n",
       " 'MSE': 9.64436840149574e-05,\n",
       " 'RMSE': 0.0098205745257066,\n",
       " 'KGE': 0.9949282766526786,\n",
       " 'Alpha-NSE': 0.9964137673377991,\n",
       " 'Pearson-r': 0.9964137327203936,\n",
       " 'Beta-NSE': -6.419479348096502e-08,\n",
       " 'FHV': -0.4987846128642559,\n",
       " 'FMS': -0.13019661441068692,\n",
       " 'FLV': 4.98982127680642,\n",
       " 'Peak-Timing': 4.758620689655173}"
      ]
     },
     "metadata": {},
     "output_type": "display_data"
    },
    {
     "name": "stdout",
     "output_type": "stream",
     "text": [
      "02064000\n"
     ]
    },
    {
     "data": {
      "text/plain": [
       "{'NSE': 0.8874261826276779,\n",
       " 'MSE': 0.0003762401465792209,\n",
       " 'RMSE': 0.019396910748343946,\n",
       " 'KGE': 0.9180221965452662,\n",
       " 'Alpha-NSE': 0.9420328736305237,\n",
       " 'Pearson-r': 0.9420330049251419,\n",
       " 'Beta-NSE': -6.44386261683394e-07,\n",
       " 'FHV': -3.6287419497966766,\n",
       " 'FMS': 1.3225497302728932,\n",
       " 'FLV': 2.112789098930481,\n",
       " 'Peak-Timing': 4.01010101010101}"
      ]
     },
     "metadata": {},
     "output_type": "display_data"
    }
   ],
   "source": [
    "for basin in basins:\n",
    "    print(basin)\n",
    "    twelve_h = pickle.load(open(BASE_DIR / f'ensemble_mtslstm_a_{basin}.p', 'rb'))[basin]['12H']['xr']\n",
    "    one_h = pickle.load(open(BASE_DIR / f'ensemble_mtslstm_b_{basin}.p', 'rb'))[basin]['1H']['xr']\n",
    "\n",
    "    # dis-aggregate observations and calculate metrics\n",
    "    disaggregated_obs = twelve_h.resample({'datetime': '1H'}).pad()\n",
    "    disaggregated_obs['qobs_mm_per_hour_sim'] = disaggregated_obs['qobs_mm_per_hour_obs']\n",
    "    disaggregated_obs['qobs_mm_per_hour_obs'] = one_h['qobs_mm_per_hour_obs']\n",
    "\n",
    "    disaggregated_metrics = calculate_metrics(disaggregated_obs['qobs_mm_per_hour_obs'],\n",
    "                                              disaggregated_obs['qobs_mm_per_hour_sim'],\n",
    "                                              metrics, resolution='1H')\n",
    "\n",
    "    display(disaggregated_metrics)"
   ]
  },
  {
   "cell_type": "code",
   "execution_count": null,
   "metadata": {},
   "outputs": [],
   "source": []
  }
 ],
 "metadata": {
  "kernelspec": {
   "display_name": "Python 3",
   "language": "python",
   "name": "python3"
  },
  "language_info": {
   "codemirror_mode": {
    "name": "ipython",
    "version": 3
   },
   "file_extension": ".py",
   "mimetype": "text/x-python",
   "name": "python",
   "nbconvert_exporter": "python",
   "pygments_lexer": "ipython3",
   "version": "3.7.7"
  }
 },
 "nbformat": 4,
 "nbformat_minor": 4
}
